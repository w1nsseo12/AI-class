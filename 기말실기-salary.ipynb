{
 "cells": [
  {
   "cell_type": "code",
   "execution_count": 24,
   "id": "12181bad",
   "metadata": {},
   "outputs": [],
   "source": [
    "import matplotlib.pyplot as plt\n",
    "import numpy as np\n",
    "import pandas as pd\n",
    "import seaborn as sns\n",
    "from sklearn.model_selection import train_test_split\n",
    "from sklearn.linear_model import LinearRegression\n",
    "from sklearn.metrics import mean_squared_error, r2_score\n",
    "from sklearn import metrics\n",
    "import tensorflow as tf\n",
    "from tensorflow import keras\n",
    "from tensorflow.keras import layers"
   ]
  },
  {
   "cell_type": "code",
   "execution_count": 25,
   "id": "dddb03a6",
   "metadata": {},
   "outputs": [],
   "source": [
    "data = pd.read_csv(\"C:/Salary_data.csv\")"
   ]
  },
  {
   "cell_type": "code",
   "execution_count": 26,
   "id": "42289ece",
   "metadata": {},
   "outputs": [
    {
     "data": {
      "text/html": [
       "<div>\n",
       "<style scoped>\n",
       "    .dataframe tbody tr th:only-of-type {\n",
       "        vertical-align: middle;\n",
       "    }\n",
       "\n",
       "    .dataframe tbody tr th {\n",
       "        vertical-align: top;\n",
       "    }\n",
       "\n",
       "    .dataframe thead th {\n",
       "        text-align: right;\n",
       "    }\n",
       "</style>\n",
       "<table border=\"1\" class=\"dataframe\">\n",
       "  <thead>\n",
       "    <tr style=\"text-align: right;\">\n",
       "      <th></th>\n",
       "      <th>YearsExperience</th>\n",
       "      <th>Salary</th>\n",
       "    </tr>\n",
       "  </thead>\n",
       "  <tbody>\n",
       "    <tr>\n",
       "      <th>0</th>\n",
       "      <td>1.1</td>\n",
       "      <td>39343.0</td>\n",
       "    </tr>\n",
       "    <tr>\n",
       "      <th>1</th>\n",
       "      <td>1.3</td>\n",
       "      <td>46205.0</td>\n",
       "    </tr>\n",
       "    <tr>\n",
       "      <th>2</th>\n",
       "      <td>1.5</td>\n",
       "      <td>37731.0</td>\n",
       "    </tr>\n",
       "    <tr>\n",
       "      <th>3</th>\n",
       "      <td>2.0</td>\n",
       "      <td>43525.0</td>\n",
       "    </tr>\n",
       "    <tr>\n",
       "      <th>4</th>\n",
       "      <td>2.2</td>\n",
       "      <td>39891.0</td>\n",
       "    </tr>\n",
       "    <tr>\n",
       "      <th>5</th>\n",
       "      <td>2.9</td>\n",
       "      <td>56642.0</td>\n",
       "    </tr>\n",
       "    <tr>\n",
       "      <th>6</th>\n",
       "      <td>3.0</td>\n",
       "      <td>60150.0</td>\n",
       "    </tr>\n",
       "    <tr>\n",
       "      <th>7</th>\n",
       "      <td>3.2</td>\n",
       "      <td>54445.0</td>\n",
       "    </tr>\n",
       "    <tr>\n",
       "      <th>8</th>\n",
       "      <td>3.2</td>\n",
       "      <td>64445.0</td>\n",
       "    </tr>\n",
       "    <tr>\n",
       "      <th>9</th>\n",
       "      <td>3.7</td>\n",
       "      <td>57189.0</td>\n",
       "    </tr>\n",
       "    <tr>\n",
       "      <th>10</th>\n",
       "      <td>3.9</td>\n",
       "      <td>63218.0</td>\n",
       "    </tr>\n",
       "    <tr>\n",
       "      <th>11</th>\n",
       "      <td>4.0</td>\n",
       "      <td>55794.0</td>\n",
       "    </tr>\n",
       "    <tr>\n",
       "      <th>12</th>\n",
       "      <td>4.0</td>\n",
       "      <td>56957.0</td>\n",
       "    </tr>\n",
       "    <tr>\n",
       "      <th>13</th>\n",
       "      <td>4.1</td>\n",
       "      <td>57081.0</td>\n",
       "    </tr>\n",
       "    <tr>\n",
       "      <th>14</th>\n",
       "      <td>4.5</td>\n",
       "      <td>61111.0</td>\n",
       "    </tr>\n",
       "    <tr>\n",
       "      <th>15</th>\n",
       "      <td>4.9</td>\n",
       "      <td>67938.0</td>\n",
       "    </tr>\n",
       "    <tr>\n",
       "      <th>16</th>\n",
       "      <td>5.1</td>\n",
       "      <td>66029.0</td>\n",
       "    </tr>\n",
       "    <tr>\n",
       "      <th>17</th>\n",
       "      <td>5.3</td>\n",
       "      <td>83088.0</td>\n",
       "    </tr>\n",
       "    <tr>\n",
       "      <th>18</th>\n",
       "      <td>5.9</td>\n",
       "      <td>81363.0</td>\n",
       "    </tr>\n",
       "    <tr>\n",
       "      <th>19</th>\n",
       "      <td>6.0</td>\n",
       "      <td>93940.0</td>\n",
       "    </tr>\n",
       "    <tr>\n",
       "      <th>20</th>\n",
       "      <td>6.8</td>\n",
       "      <td>91738.0</td>\n",
       "    </tr>\n",
       "    <tr>\n",
       "      <th>21</th>\n",
       "      <td>7.1</td>\n",
       "      <td>98273.0</td>\n",
       "    </tr>\n",
       "    <tr>\n",
       "      <th>22</th>\n",
       "      <td>7.9</td>\n",
       "      <td>101302.0</td>\n",
       "    </tr>\n",
       "    <tr>\n",
       "      <th>23</th>\n",
       "      <td>8.2</td>\n",
       "      <td>113812.0</td>\n",
       "    </tr>\n",
       "    <tr>\n",
       "      <th>24</th>\n",
       "      <td>8.7</td>\n",
       "      <td>109431.0</td>\n",
       "    </tr>\n",
       "    <tr>\n",
       "      <th>25</th>\n",
       "      <td>9.0</td>\n",
       "      <td>105582.0</td>\n",
       "    </tr>\n",
       "    <tr>\n",
       "      <th>26</th>\n",
       "      <td>9.5</td>\n",
       "      <td>116969.0</td>\n",
       "    </tr>\n",
       "    <tr>\n",
       "      <th>27</th>\n",
       "      <td>9.6</td>\n",
       "      <td>112635.0</td>\n",
       "    </tr>\n",
       "    <tr>\n",
       "      <th>28</th>\n",
       "      <td>10.3</td>\n",
       "      <td>122391.0</td>\n",
       "    </tr>\n",
       "    <tr>\n",
       "      <th>29</th>\n",
       "      <td>10.5</td>\n",
       "      <td>121872.0</td>\n",
       "    </tr>\n",
       "  </tbody>\n",
       "</table>\n",
       "</div>"
      ],
      "text/plain": [
       "    YearsExperience    Salary\n",
       "0               1.1   39343.0\n",
       "1               1.3   46205.0\n",
       "2               1.5   37731.0\n",
       "3               2.0   43525.0\n",
       "4               2.2   39891.0\n",
       "5               2.9   56642.0\n",
       "6               3.0   60150.0\n",
       "7               3.2   54445.0\n",
       "8               3.2   64445.0\n",
       "9               3.7   57189.0\n",
       "10              3.9   63218.0\n",
       "11              4.0   55794.0\n",
       "12              4.0   56957.0\n",
       "13              4.1   57081.0\n",
       "14              4.5   61111.0\n",
       "15              4.9   67938.0\n",
       "16              5.1   66029.0\n",
       "17              5.3   83088.0\n",
       "18              5.9   81363.0\n",
       "19              6.0   93940.0\n",
       "20              6.8   91738.0\n",
       "21              7.1   98273.0\n",
       "22              7.9  101302.0\n",
       "23              8.2  113812.0\n",
       "24              8.7  109431.0\n",
       "25              9.0  105582.0\n",
       "26              9.5  116969.0\n",
       "27              9.6  112635.0\n",
       "28             10.3  122391.0\n",
       "29             10.5  121872.0"
      ]
     },
     "execution_count": 26,
     "metadata": {},
     "output_type": "execute_result"
    }
   ],
   "source": [
    "data"
   ]
  },
  {
   "cell_type": "code",
   "execution_count": 27,
   "id": "e894031e",
   "metadata": {},
   "outputs": [
    {
     "name": "stdout",
     "output_type": "stream",
     "text": [
      "<class 'pandas.core.frame.DataFrame'>\n",
      "RangeIndex: 30 entries, 0 to 29\n",
      "Data columns (total 2 columns):\n",
      " #   Column           Non-Null Count  Dtype  \n",
      "---  ------           --------------  -----  \n",
      " 0   YearsExperience  30 non-null     float64\n",
      " 1   Salary           30 non-null     float64\n",
      "dtypes: float64(2)\n",
      "memory usage: 608.0 bytes\n"
     ]
    }
   ],
   "source": [
    "data.info()"
   ]
  },
  {
   "cell_type": "code",
   "execution_count": 28,
   "id": "bebe53ab",
   "metadata": {},
   "outputs": [
    {
     "data": {
      "text/plain": [
       "YearsExperience    0\n",
       "Salary             0\n",
       "dtype: int64"
      ]
     },
     "execution_count": 28,
     "metadata": {},
     "output_type": "execute_result"
    }
   ],
   "source": [
    "data.isnull().sum()"
   ]
  },
  {
   "cell_type": "code",
   "execution_count": 29,
   "id": "47065eac",
   "metadata": {},
   "outputs": [],
   "source": [
    "X = data.loc[:, 'Salary'].values\n",
    "y = data.loc[:, 'YearsExperience'].values"
   ]
  },
  {
   "cell_type": "code",
   "execution_count": 30,
   "id": "2a4b0621",
   "metadata": {},
   "outputs": [
    {
     "data": {
      "text/plain": [
       "array([ 39343.,  46205.,  37731.,  43525.,  39891.,  56642.,  60150.,\n",
       "        54445.,  64445.,  57189.,  63218.,  55794.,  56957.,  57081.,\n",
       "        61111.,  67938.,  66029.,  83088.,  81363.,  93940.,  91738.,\n",
       "        98273., 101302., 113812., 109431., 105582., 116969., 112635.,\n",
       "       122391., 121872.])"
      ]
     },
     "execution_count": 30,
     "metadata": {},
     "output_type": "execute_result"
    }
   ],
   "source": [
    "X"
   ]
  },
  {
   "cell_type": "code",
   "execution_count": 31,
   "id": "fb0c1142",
   "metadata": {},
   "outputs": [
    {
     "data": {
      "text/plain": [
       "array([ 1.1,  1.3,  1.5,  2. ,  2.2,  2.9,  3. ,  3.2,  3.2,  3.7,  3.9,\n",
       "        4. ,  4. ,  4.1,  4.5,  4.9,  5.1,  5.3,  5.9,  6. ,  6.8,  7.1,\n",
       "        7.9,  8.2,  8.7,  9. ,  9.5,  9.6, 10.3, 10.5])"
      ]
     },
     "execution_count": 31,
     "metadata": {},
     "output_type": "execute_result"
    }
   ],
   "source": [
    "y"
   ]
  },
  {
   "cell_type": "code",
   "execution_count": 32,
   "id": "bc43df8b",
   "metadata": {},
   "outputs": [],
   "source": [
    "from sklearn.model_selection import train_test_split\n",
    "\n",
    "X_train, X_test, y_train, y_test = train_test_split(X, y, test_size=0.2, random_state=0)"
   ]
  },
  {
   "cell_type": "code",
   "execution_count": 33,
   "id": "1ee76f73",
   "metadata": {},
   "outputs": [
    {
     "name": "stdout",
     "output_type": "stream",
     "text": [
      "Model: \"sequential_1\"\n",
      "_________________________________________________________________\n",
      " Layer (type)                Output Shape              Param #   \n",
      "=================================================================\n",
      " dense_3 (Dense)             (None, 64)                128       \n",
      "                                                                 \n",
      " dense_4 (Dense)             (None, 32)                2080      \n",
      "                                                                 \n",
      " dense_5 (Dense)             (None, 1)                 33        \n",
      "                                                                 \n",
      "=================================================================\n",
      "Total params: 2,241\n",
      "Trainable params: 2,241\n",
      "Non-trainable params: 0\n",
      "_________________________________________________________________\n"
     ]
    }
   ],
   "source": [
    "from tensorflow.keras.models import Sequential\n",
    "from tensorflow.keras.layers import Dense\n",
    "\n",
    "model = Sequential()\n",
    "model.add(Dense(64, activation = 'relu', input_shape = (1,)))\n",
    "model.add(Dense(32, activation = 'relu'))\n",
    "model.add(Dense(1)) \n",
    "model.compile(optimizer = 'rmsprop', loss = 'mse', metrics = ['mse'])\n",
    "\n",
    "model.summary()"
   ]
  },
  {
   "cell_type": "code",
   "execution_count": 34,
   "id": "1b091506",
   "metadata": {
    "scrolled": true
   },
   "outputs": [
    {
     "name": "stdout",
     "output_type": "stream",
     "text": [
      "Epoch 1/100\n",
      "1/1 [==============================] - 1s 849ms/step - loss: 179029296.0000 - mse: 179029296.0000 - val_loss: 98846528.0000 - val_mse: 98846528.0000\n",
      "Epoch 2/100\n",
      "1/1 [==============================] - 0s 46ms/step - loss: 73038416.0000 - mse: 73038416.0000 - val_loss: 49161916.0000 - val_mse: 49161916.0000\n",
      "Epoch 3/100\n",
      "1/1 [==============================] - 0s 52ms/step - loss: 36324256.0000 - mse: 36324256.0000 - val_loss: 25406808.0000 - val_mse: 25406808.0000\n",
      "Epoch 4/100\n",
      "1/1 [==============================] - 0s 41ms/step - loss: 18771050.0000 - mse: 18771050.0000 - val_loss: 13460479.0000 - val_mse: 13460479.0000\n",
      "Epoch 5/100\n",
      "1/1 [==============================] - 0s 50ms/step - loss: 9943979.0000 - mse: 9943979.0000 - val_loss: 6893290.5000 - val_mse: 6893290.5000\n",
      "Epoch 6/100\n",
      "1/1 [==============================] - 0s 47ms/step - loss: 5091776.5000 - mse: 5091776.5000 - val_loss: 3395407.2500 - val_mse: 3395407.2500\n",
      "Epoch 7/100\n",
      "1/1 [==============================] - 0s 58ms/step - loss: 2507555.2500 - mse: 2507555.2500 - val_loss: 1598110.6250 - val_mse: 1598110.6250\n",
      "Epoch 8/100\n",
      "1/1 [==============================] - 0s 45ms/step - loss: 1179868.5000 - mse: 1179868.5000 - val_loss: 731091.1875 - val_mse: 731091.1875\n",
      "Epoch 9/100\n",
      "1/1 [==============================] - 0s 35ms/step - loss: 539512.1250 - mse: 539512.1250 - val_loss: 307274.9375 - val_mse: 307274.9375\n",
      "Epoch 10/100\n",
      "1/1 [==============================] - 0s 68ms/step - loss: 226581.3281 - mse: 226581.3281 - val_loss: 46781.2383 - val_mse: 46781.2383\n",
      "Epoch 11/100\n",
      "1/1 [==============================] - 0s 58ms/step - loss: 34379.0195 - mse: 34379.0195 - val_loss: 5606.6226 - val_mse: 5606.6226\n",
      "Epoch 12/100\n",
      "1/1 [==============================] - 0s 47ms/step - loss: 4077.2520 - mse: 4077.2520 - val_loss: 482.7832 - val_mse: 482.7832\n",
      "Epoch 13/100\n",
      "1/1 [==============================] - 0s 53ms/step - loss: 337.9465 - mse: 337.9465 - val_loss: 32.9627 - val_mse: 32.9627\n",
      "Epoch 14/100\n",
      "1/1 [==============================] - 0s 60ms/step - loss: 20.0555 - mse: 20.0555 - val_loss: 3.2089 - val_mse: 3.2089\n",
      "Epoch 15/100\n",
      "1/1 [==============================] - 0s 50ms/step - loss: 1.7204 - mse: 1.7204 - val_loss: 1.2657 - val_mse: 1.2657\n",
      "Epoch 16/100\n",
      "1/1 [==============================] - 0s 38ms/step - loss: 1.0297 - mse: 1.0297 - val_loss: 1.0883 - val_mse: 1.0883\n",
      "Epoch 17/100\n",
      "1/1 [==============================] - 0s 51ms/step - loss: 1.0137 - mse: 1.0137 - val_loss: 1.0765 - val_mse: 1.0765\n",
      "Epoch 18/100\n",
      "1/1 [==============================] - 0s 58ms/step - loss: 1.0142 - mse: 1.0142 - val_loss: 1.0735 - val_mse: 1.0735\n",
      "Epoch 19/100\n",
      "1/1 [==============================] - 0s 56ms/step - loss: 1.0145 - mse: 1.0145 - val_loss: 1.0725 - val_mse: 1.0725\n",
      "Epoch 20/100\n",
      "1/1 [==============================] - 0s 49ms/step - loss: 1.0143 - mse: 1.0143 - val_loss: 1.0718 - val_mse: 1.0718\n",
      "Epoch 21/100\n",
      "1/1 [==============================] - 0s 48ms/step - loss: 1.0145 - mse: 1.0145 - val_loss: 1.0716 - val_mse: 1.0716\n",
      "Epoch 22/100\n",
      "1/1 [==============================] - 0s 49ms/step - loss: 1.0144 - mse: 1.0144 - val_loss: 1.0716 - val_mse: 1.0716\n",
      "Epoch 23/100\n",
      "1/1 [==============================] - 0s 54ms/step - loss: 1.0145 - mse: 1.0145 - val_loss: 1.0712 - val_mse: 1.0712\n",
      "Epoch 24/100\n",
      "1/1 [==============================] - 0s 50ms/step - loss: 1.0145 - mse: 1.0145 - val_loss: 1.0712 - val_mse: 1.0712\n",
      "Epoch 25/100\n",
      "1/1 [==============================] - 0s 54ms/step - loss: 1.0145 - mse: 1.0145 - val_loss: 1.0712 - val_mse: 1.0712\n",
      "Epoch 26/100\n",
      "1/1 [==============================] - 0s 57ms/step - loss: 1.0145 - mse: 1.0145 - val_loss: 1.0712 - val_mse: 1.0712\n",
      "Epoch 27/100\n",
      "1/1 [==============================] - 0s 59ms/step - loss: 1.0145 - mse: 1.0145 - val_loss: 1.0712 - val_mse: 1.0712\n",
      "Epoch 28/100\n",
      "1/1 [==============================] - 0s 49ms/step - loss: 1.0145 - mse: 1.0145 - val_loss: 1.0710 - val_mse: 1.0710\n",
      "Epoch 29/100\n",
      "1/1 [==============================] - 0s 48ms/step - loss: 1.0144 - mse: 1.0144 - val_loss: 1.0710 - val_mse: 1.0710\n",
      "Epoch 30/100\n",
      "1/1 [==============================] - 0s 52ms/step - loss: 1.0144 - mse: 1.0144 - val_loss: 1.0710 - val_mse: 1.0710\n",
      "Epoch 31/100\n",
      "1/1 [==============================] - 0s 40ms/step - loss: 1.0144 - mse: 1.0144 - val_loss: 1.0710 - val_mse: 1.0710\n",
      "Epoch 32/100\n",
      "1/1 [==============================] - 0s 47ms/step - loss: 1.0144 - mse: 1.0144 - val_loss: 1.0710 - val_mse: 1.0710\n",
      "Epoch 33/100\n",
      "1/1 [==============================] - 0s 48ms/step - loss: 1.0144 - mse: 1.0144 - val_loss: 1.0710 - val_mse: 1.0710\n",
      "Epoch 34/100\n",
      "1/1 [==============================] - 0s 47ms/step - loss: 1.0144 - mse: 1.0144 - val_loss: 1.0710 - val_mse: 1.0710\n",
      "Epoch 35/100\n",
      "1/1 [==============================] - 0s 54ms/step - loss: 1.0144 - mse: 1.0144 - val_loss: 1.0710 - val_mse: 1.0710\n",
      "Epoch 36/100\n",
      "1/1 [==============================] - 0s 51ms/step - loss: 1.0144 - mse: 1.0144 - val_loss: 1.0710 - val_mse: 1.0710\n",
      "Epoch 37/100\n",
      "1/1 [==============================] - 0s 54ms/step - loss: 1.0144 - mse: 1.0144 - val_loss: 1.0710 - val_mse: 1.0710\n",
      "Epoch 38/100\n",
      "1/1 [==============================] - 0s 55ms/step - loss: 1.0144 - mse: 1.0144 - val_loss: 1.0710 - val_mse: 1.0710\n",
      "Epoch 39/100\n",
      "1/1 [==============================] - 0s 52ms/step - loss: 1.0144 - mse: 1.0144 - val_loss: 1.0710 - val_mse: 1.0710\n",
      "Epoch 40/100\n",
      "1/1 [==============================] - 0s 46ms/step - loss: 1.0144 - mse: 1.0144 - val_loss: 1.0710 - val_mse: 1.0710\n",
      "Epoch 41/100\n",
      "1/1 [==============================] - 0s 45ms/step - loss: 1.0144 - mse: 1.0144 - val_loss: 1.0710 - val_mse: 1.0710\n",
      "Epoch 42/100\n",
      "1/1 [==============================] - 0s 50ms/step - loss: 1.0144 - mse: 1.0144 - val_loss: 1.0710 - val_mse: 1.0710\n",
      "Epoch 43/100\n",
      "1/1 [==============================] - 0s 61ms/step - loss: 1.0144 - mse: 1.0144 - val_loss: 1.0710 - val_mse: 1.0710\n",
      "Epoch 44/100\n",
      "1/1 [==============================] - 0s 54ms/step - loss: 1.0144 - mse: 1.0144 - val_loss: 1.0708 - val_mse: 1.0708\n",
      "Epoch 45/100\n",
      "1/1 [==============================] - 0s 56ms/step - loss: 1.0144 - mse: 1.0144 - val_loss: 1.0708 - val_mse: 1.0708\n",
      "Epoch 46/100\n",
      "1/1 [==============================] - 0s 40ms/step - loss: 1.0144 - mse: 1.0144 - val_loss: 1.0708 - val_mse: 1.0708\n",
      "Epoch 47/100\n",
      "1/1 [==============================] - 0s 47ms/step - loss: 1.0144 - mse: 1.0144 - val_loss: 1.0709 - val_mse: 1.0709\n",
      "Epoch 48/100\n",
      "1/1 [==============================] - 0s 45ms/step - loss: 1.0144 - mse: 1.0144 - val_loss: 1.0709 - val_mse: 1.0709\n",
      "Epoch 49/100\n",
      "1/1 [==============================] - 0s 57ms/step - loss: 1.0144 - mse: 1.0144 - val_loss: 1.0709 - val_mse: 1.0709\n",
      "Epoch 50/100\n",
      "1/1 [==============================] - 0s 38ms/step - loss: 1.0144 - mse: 1.0144 - val_loss: 1.0709 - val_mse: 1.0709\n",
      "Epoch 51/100\n",
      "1/1 [==============================] - 0s 42ms/step - loss: 1.0144 - mse: 1.0144 - val_loss: 1.0709 - val_mse: 1.0709\n",
      "Epoch 52/100\n",
      "1/1 [==============================] - 0s 39ms/step - loss: 1.0144 - mse: 1.0144 - val_loss: 1.0709 - val_mse: 1.0709\n",
      "Epoch 53/100\n",
      "1/1 [==============================] - 0s 47ms/step - loss: 1.0144 - mse: 1.0144 - val_loss: 1.0709 - val_mse: 1.0709\n",
      "Epoch 54/100\n",
      "1/1 [==============================] - 0s 61ms/step - loss: 1.0144 - mse: 1.0144 - val_loss: 1.0709 - val_mse: 1.0709\n",
      "Epoch 55/100\n",
      "1/1 [==============================] - 0s 43ms/step - loss: 1.0144 - mse: 1.0144 - val_loss: 1.0709 - val_mse: 1.0709\n",
      "Epoch 56/100\n",
      "1/1 [==============================] - 0s 42ms/step - loss: 1.0144 - mse: 1.0144 - val_loss: 1.0708 - val_mse: 1.0708\n",
      "Epoch 57/100\n",
      "1/1 [==============================] - 0s 53ms/step - loss: 1.0145 - mse: 1.0145 - val_loss: 1.0701 - val_mse: 1.0701\n",
      "Epoch 58/100\n",
      "1/1 [==============================] - 0s 43ms/step - loss: 1.0144 - mse: 1.0144 - val_loss: 1.0731 - val_mse: 1.0731\n",
      "Epoch 59/100\n",
      "1/1 [==============================] - 0s 50ms/step - loss: 1.0145 - mse: 1.0145 - val_loss: 1.0567 - val_mse: 1.0567\n",
      "Epoch 60/100\n",
      "1/1 [==============================] - 0s 43ms/step - loss: 1.0144 - mse: 1.0144 - val_loss: 1.1869 - val_mse: 1.1869\n",
      "Epoch 61/100\n"
     ]
    },
    {
     "name": "stdout",
     "output_type": "stream",
     "text": [
      "1/1 [==============================] - 0s 39ms/step - loss: 1.0191 - mse: 1.0191 - val_loss: 0.7330 - val_mse: 0.7330\n",
      "Epoch 62/100\n",
      "1/1 [==============================] - 0s 45ms/step - loss: 1.4502 - mse: 1.4502 - val_loss: 58.8357 - val_mse: 58.8357\n",
      "Epoch 63/100\n",
      "1/1 [==============================] - 0s 38ms/step - loss: 37.4366 - mse: 37.4366 - val_loss: 4400.7461 - val_mse: 4400.7461\n",
      "Epoch 64/100\n",
      "1/1 [==============================] - 0s 49ms/step - loss: 3312.0632 - mse: 3312.0632 - val_loss: 242075.7656 - val_mse: 242075.7656\n",
      "Epoch 65/100\n",
      "1/1 [==============================] - 0s 38ms/step - loss: 178455.4375 - mse: 178455.4375 - val_loss: 5343523.0000 - val_mse: 5343523.0000\n",
      "Epoch 66/100\n",
      "1/1 [==============================] - 0s 40ms/step - loss: 3950911.2500 - mse: 3950911.2500 - val_loss: 5119999.5000 - val_mse: 5119999.5000\n",
      "Epoch 67/100\n",
      "1/1 [==============================] - 0s 39ms/step - loss: 3781643.7500 - mse: 3781643.7500 - val_loss: 1094331.8750 - val_mse: 1094331.8750\n",
      "Epoch 68/100\n",
      "1/1 [==============================] - 0s 46ms/step - loss: 809642.7500 - mse: 809642.7500 - val_loss: 258785.5625 - val_mse: 258785.5625\n",
      "Epoch 69/100\n",
      "1/1 [==============================] - 0s 43ms/step - loss: 190789.0000 - mse: 190789.0000 - val_loss: 74283.4922 - val_mse: 74283.4922\n",
      "Epoch 70/100\n",
      "1/1 [==============================] - 0s 42ms/step - loss: 55139.1133 - mse: 55139.1133 - val_loss: 28592.8691 - val_mse: 28592.8691\n",
      "Epoch 71/100\n",
      "1/1 [==============================] - 0s 41ms/step - loss: 20980.1855 - mse: 20980.1855 - val_loss: 13742.6562 - val_mse: 13742.6562\n",
      "Epoch 72/100\n",
      "1/1 [==============================] - 0s 55ms/step - loss: 10260.9873 - mse: 10260.9873 - val_loss: 8793.2705 - val_mse: 8793.2705\n",
      "Epoch 73/100\n",
      "1/1 [==============================] - 0s 44ms/step - loss: 6415.1367 - mse: 6415.1367 - val_loss: 6705.2485 - val_mse: 6705.2485\n",
      "Epoch 74/100\n",
      "1/1 [==============================] - 0s 39ms/step - loss: 5028.9297 - mse: 5028.9297 - val_loss: 6726.7695 - val_mse: 6726.7695\n",
      "Epoch 75/100\n",
      "1/1 [==============================] - 0s 45ms/step - loss: 4898.5176 - mse: 4898.5176 - val_loss: 7802.1641 - val_mse: 7802.1641\n",
      "Epoch 76/100\n",
      "1/1 [==============================] - 0s 39ms/step - loss: 5845.3789 - mse: 5845.3789 - val_loss: 11603.2217 - val_mse: 11603.2217\n",
      "Epoch 77/100\n",
      "1/1 [==============================] - 0s 42ms/step - loss: 8479.3838 - mse: 8479.3838 - val_loss: 19813.2129 - val_mse: 19813.2129\n",
      "Epoch 78/100\n",
      "1/1 [==============================] - 0s 40ms/step - loss: 14768.1514 - mse: 14768.1514 - val_loss: 41678.3438 - val_mse: 41678.3438\n",
      "Epoch 79/100\n",
      "1/1 [==============================] - 0s 48ms/step - loss: 30619.0527 - mse: 30619.0527 - val_loss: 99853.2578 - val_mse: 99853.2578\n",
      "Epoch 80/100\n",
      "1/1 [==============================] - 0s 41ms/step - loss: 74074.4453 - mse: 74074.4453 - val_loss: 274866.1250 - val_mse: 274866.1250\n",
      "Epoch 81/100\n",
      "1/1 [==============================] - 0s 53ms/step - loss: 202659.0000 - mse: 202659.0000 - val_loss: 766826.0000 - val_mse: 766826.0000\n",
      "Epoch 82/100\n",
      "1/1 [==============================] - 0s 38ms/step - loss: 567462.4375 - mse: 567462.4375 - val_loss: 1760961.5000 - val_mse: 1760961.5000\n",
      "Epoch 83/100\n",
      "1/1 [==============================] - 0s 45ms/step - loss: 1300163.1250 - mse: 1300163.1250 - val_loss: 2276691.0000 - val_mse: 2276691.0000\n",
      "Epoch 84/100\n",
      "1/1 [==============================] - 0s 43ms/step - loss: 1683815.6250 - mse: 1683815.6250 - val_loss: 1623694.0000 - val_mse: 1623694.0000\n",
      "Epoch 85/100\n",
      "1/1 [==============================] - 0s 39ms/step - loss: 1198769.6250 - mse: 1198769.6250 - val_loss: 834601.7500 - val_mse: 834601.7500\n",
      "Epoch 86/100\n",
      "1/1 [==============================] - 0s 40ms/step - loss: 617582.8125 - mse: 617582.8125 - val_loss: 432805.2500 - val_mse: 432805.2500\n",
      "Epoch 87/100\n",
      "1/1 [==============================] - 0s 38ms/step - loss: 319254.7500 - mse: 319254.7500 - val_loss: 243496.7031 - val_mse: 243496.7031\n",
      "Epoch 88/100\n",
      "1/1 [==============================] - 0s 41ms/step - loss: 180384.3125 - mse: 180384.3125 - val_loss: 163987.5000 - val_mse: 163987.5000\n",
      "Epoch 89/100\n",
      "1/1 [==============================] - 0s 41ms/step - loss: 120826.0547 - mse: 120826.0547 - val_loss: 128579.9766 - val_mse: 128579.9766\n",
      "Epoch 90/100\n",
      "1/1 [==============================] - 0s 49ms/step - loss: 95340.6250 - mse: 95340.6250 - val_loss: 122286.8516 - val_mse: 122286.8516\n",
      "Epoch 91/100\n",
      "1/1 [==============================] - 0s 41ms/step - loss: 90058.5547 - mse: 90058.5547 - val_loss: 134465.6875 - val_mse: 134465.6875\n",
      "Epoch 92/100\n",
      "1/1 [==============================] - 0s 42ms/step - loss: 99698.2266 - mse: 99698.2266 - val_loss: 174963.4219 - val_mse: 174963.4219\n",
      "Epoch 93/100\n",
      "1/1 [==============================] - 0s 44ms/step - loss: 128925.5547 - mse: 128925.5547 - val_loss: 253773.9219 - val_mse: 253773.9219\n",
      "Epoch 94/100\n",
      "1/1 [==============================] - 0s 47ms/step - loss: 187988.4531 - mse: 187988.4531 - val_loss: 407353.3438 - val_mse: 407353.3438\n",
      "Epoch 95/100\n",
      "1/1 [==============================] - 0s 38ms/step - loss: 300463.9688 - mse: 300463.9688 - val_loss: 655993.6875 - val_mse: 655993.6875\n",
      "Epoch 96/100\n",
      "1/1 [==============================] - 0s 43ms/step - loss: 485500.4062 - mse: 485500.4062 - val_loss: 987394.7500 - val_mse: 987394.7500\n",
      "Epoch 97/100\n",
      "1/1 [==============================] - 0s 43ms/step - loss: 728797.3125 - mse: 728797.3125 - val_loss: 1202291.6250 - val_mse: 1202291.6250\n",
      "Epoch 98/100\n",
      "1/1 [==============================] - 0s 38ms/step - loss: 889470.0625 - mse: 889470.0625 - val_loss: 1170650.8750 - val_mse: 1170650.8750\n",
      "Epoch 99/100\n",
      "1/1 [==============================] - 0s 42ms/step - loss: 864143.1875 - mse: 864143.1875 - val_loss: 914658.5000 - val_mse: 914658.5000\n",
      "Epoch 100/100\n",
      "1/1 [==============================] - 0s 44ms/step - loss: 676783.5625 - mse: 676783.5625 - val_loss: 668324.8125 - val_mse: 668324.8125\n"
     ]
    }
   ],
   "source": [
    "N_EPOCHS = 100\n",
    "history = model.fit(X_train, y_train, epochs = N_EPOCHS, validation_data=(X_test, y_test))"
   ]
  },
  {
   "cell_type": "code",
   "execution_count": 35,
   "id": "dfb9b9d8",
   "metadata": {},
   "outputs": [
    {
     "name": "stdout",
     "output_type": "stream",
     "text": [
      "1/1 [==============================] - 0s 26ms/step - loss: 668324.8125 - mse: 668324.8125\n"
     ]
    },
    {
     "data": {
      "text/plain": [
       "[668324.8125, 668324.8125]"
      ]
     },
     "execution_count": 35,
     "metadata": {},
     "output_type": "execute_result"
    }
   ],
   "source": [
    "model.evaluate(X_test, y_test)"
   ]
  },
  {
   "cell_type": "code",
   "execution_count": 36,
   "id": "261d42f2",
   "metadata": {},
   "outputs": [
    {
     "data": {
      "image/png": "[encoded data removed]",
      "text/plain": [
       "<Figure size 1000x700 with 1 Axes>"
      ]
     },
     "metadata": {},
     "output_type": "display_data"
    }
   ],
   "source": [
    "# loss 체크\n",
    "import matplotlib.pyplot as plt\n",
    "plt.figure(figsize=(10,7))\n",
    "plt.plot(range(N_EPOCHS), history.history['loss'], label='train loss')\n",
    "plt.plot(range(N_EPOCHS), history.history['val_loss'], label='test loss')\n",
    "plt.xlabel('Epoch')\n",
    "plt.ylabel('Loss')\n",
    "plt.legend()\n",
    "plt.show()"
   ]
  },
  {
   "cell_type": "code",
   "execution_count": 37,
   "id": "b2d39055",
   "metadata": {},
   "outputs": [
    {
     "data": {
      "image/png": "[encoded data removed]",
      "text/plain": [
       "<Figure size 1000x700 with 1 Axes>"
      ]
     },
     "metadata": {},
     "output_type": "display_data"
    }
   ],
   "source": [
    "# loss 체크\n",
    "import matplotlib.pyplot as plt\n",
    "plt.figure(figsize=(10,7))\n",
    "plt.plot(range(N_EPOCHS), history.history['mse'], label='mse')\n",
    "plt.plot(range(N_EPOCHS), history.history['val_mse'], label='test mse')\n",
    "plt.xlabel('Epoch')\n",
    "plt.ylabel('Loss')\n",
    "plt.legend()\n",
    "plt.show()"
   ]
  },
  {
   "cell_type": "code",
   "execution_count": null,
   "id": "549bc027",
   "metadata": {},
   "outputs": [],
   "source": []
  }
 ],
 "metadata": {
  "kernelspec": {
   "display_name": "Python 3 (ipykernel)",
   "language": "python",
   "name": "python3"
  },
  "language_info": {
   "codemirror_mode": {
    "name": "ipython",
    "version": 3
   },
   "file_extension": ".py",
   "mimetype": "text/x-python",
   "name": "python",
   "nbconvert_exporter": "python",
   "pygments_lexer": "ipython3",
   "version": "3.9.13"
  }
 },
 "nbformat": 4,
 "nbformat_minor": 5
}
