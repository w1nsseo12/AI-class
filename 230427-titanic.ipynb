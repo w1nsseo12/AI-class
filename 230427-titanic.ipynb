{
 "cells": [
  {
   "cell_type": "code",
   "execution_count": 2,
   "id": "e3becccc",
   "metadata": {},
   "outputs": [],
   "source": [
    "import numpy as np\n",
    "import pandas as pd\n",
    "import seaborn as sns\n",
    "import matplotlib.pyplot as plt\n",
    "from sklearn.preprocessing import LabelEncoder\n",
    "from sklearn.model_selection import train_test_split\n",
    "from sklearn.neighbors import KNeighborsClassifier\n",
    "from sklearn.tree import DecisionTreeClassifier\n",
    "from sklearn.ensemble import RandomForestClassifier\n",
    "from sklearn.linear_model import LogisticRegression\n",
    "from sklearn.metrics import accuracy_score\n",
    "from sklearn.metrics import confusion_matrix"
   ]
  },
  {
   "cell_type": "code",
   "execution_count": 3,
   "id": "abbb9b4e",
   "metadata": {},
   "outputs": [],
   "source": [
    "features = pd.read_csv(\"C:/titanic.csv\", index_col = 0)"
   ]
  },
  {
   "cell_type": "code",
   "execution_count": 4,
   "id": "52003a83",
   "metadata": {},
   "outputs": [
    {
     "data": {
      "text/html": [
       "<div>\n",
       "<style scoped>\n",
       "    .dataframe tbody tr th:only-of-type {\n",
       "        vertical-align: middle;\n",
       "    }\n",
       "\n",
       "    .dataframe tbody tr th {\n",
       "        vertical-align: top;\n",
       "    }\n",
       "\n",
       "    .dataframe thead th {\n",
       "        text-align: right;\n",
       "    }\n",
       "</style>\n",
       "<table border=\"1\" class=\"dataframe\">\n",
       "  <thead>\n",
       "    <tr style=\"text-align: right;\">\n",
       "      <th></th>\n",
       "      <th>Survived</th>\n",
       "      <th>Pclass</th>\n",
       "      <th>Name</th>\n",
       "      <th>Sex</th>\n",
       "      <th>Age</th>\n",
       "      <th>SibSp</th>\n",
       "      <th>Parch</th>\n",
       "      <th>Ticket</th>\n",
       "      <th>Fare</th>\n",
       "      <th>Cabin</th>\n",
       "      <th>Embarked</th>\n",
       "    </tr>\n",
       "    <tr>\n",
       "      <th>PassengerId</th>\n",
       "      <th></th>\n",
       "      <th></th>\n",
       "      <th></th>\n",
       "      <th></th>\n",
       "      <th></th>\n",
       "      <th></th>\n",
       "      <th></th>\n",
       "      <th></th>\n",
       "      <th></th>\n",
       "      <th></th>\n",
       "      <th></th>\n",
       "    </tr>\n",
       "  </thead>\n",
       "  <tbody>\n",
       "    <tr>\n",
       "      <th>1</th>\n",
       "      <td>0</td>\n",
       "      <td>3</td>\n",
       "      <td>Braund, Mr. Owen Harris</td>\n",
       "      <td>male</td>\n",
       "      <td>22.0</td>\n",
       "      <td>1</td>\n",
       "      <td>0</td>\n",
       "      <td>A/5 21171</td>\n",
       "      <td>7.2500</td>\n",
       "      <td>NaN</td>\n",
       "      <td>S</td>\n",
       "    </tr>\n",
       "    <tr>\n",
       "      <th>2</th>\n",
       "      <td>1</td>\n",
       "      <td>1</td>\n",
       "      <td>Cumings, Mrs. John Bradley (Florence Briggs Th...</td>\n",
       "      <td>female</td>\n",
       "      <td>38.0</td>\n",
       "      <td>1</td>\n",
       "      <td>0</td>\n",
       "      <td>PC 17599</td>\n",
       "      <td>71.2833</td>\n",
       "      <td>C85</td>\n",
       "      <td>C</td>\n",
       "    </tr>\n",
       "    <tr>\n",
       "      <th>3</th>\n",
       "      <td>1</td>\n",
       "      <td>3</td>\n",
       "      <td>Heikkinen, Miss. Laina</td>\n",
       "      <td>female</td>\n",
       "      <td>26.0</td>\n",
       "      <td>0</td>\n",
       "      <td>0</td>\n",
       "      <td>STON/O2. 3101282</td>\n",
       "      <td>7.9250</td>\n",
       "      <td>NaN</td>\n",
       "      <td>S</td>\n",
       "    </tr>\n",
       "    <tr>\n",
       "      <th>4</th>\n",
       "      <td>1</td>\n",
       "      <td>1</td>\n",
       "      <td>Futrelle, Mrs. Jacques Heath (Lily May Peel)</td>\n",
       "      <td>female</td>\n",
       "      <td>35.0</td>\n",
       "      <td>1</td>\n",
       "      <td>0</td>\n",
       "      <td>113803</td>\n",
       "      <td>53.1000</td>\n",
       "      <td>C123</td>\n",
       "      <td>S</td>\n",
       "    </tr>\n",
       "    <tr>\n",
       "      <th>5</th>\n",
       "      <td>0</td>\n",
       "      <td>3</td>\n",
       "      <td>Allen, Mr. William Henry</td>\n",
       "      <td>male</td>\n",
       "      <td>35.0</td>\n",
       "      <td>0</td>\n",
       "      <td>0</td>\n",
       "      <td>373450</td>\n",
       "      <td>8.0500</td>\n",
       "      <td>NaN</td>\n",
       "      <td>S</td>\n",
       "    </tr>\n",
       "    <tr>\n",
       "      <th>...</th>\n",
       "      <td>...</td>\n",
       "      <td>...</td>\n",
       "      <td>...</td>\n",
       "      <td>...</td>\n",
       "      <td>...</td>\n",
       "      <td>...</td>\n",
       "      <td>...</td>\n",
       "      <td>...</td>\n",
       "      <td>...</td>\n",
       "      <td>...</td>\n",
       "      <td>...</td>\n",
       "    </tr>\n",
       "    <tr>\n",
       "      <th>887</th>\n",
       "      <td>0</td>\n",
       "      <td>2</td>\n",
       "      <td>Montvila, Rev. Juozas</td>\n",
       "      <td>male</td>\n",
       "      <td>27.0</td>\n",
       "      <td>0</td>\n",
       "      <td>0</td>\n",
       "      <td>211536</td>\n",
       "      <td>13.0000</td>\n",
       "      <td>NaN</td>\n",
       "      <td>S</td>\n",
       "    </tr>\n",
       "    <tr>\n",
       "      <th>888</th>\n",
       "      <td>1</td>\n",
       "      <td>1</td>\n",
       "      <td>Graham, Miss. Margaret Edith</td>\n",
       "      <td>female</td>\n",
       "      <td>19.0</td>\n",
       "      <td>0</td>\n",
       "      <td>0</td>\n",
       "      <td>112053</td>\n",
       "      <td>30.0000</td>\n",
       "      <td>B42</td>\n",
       "      <td>S</td>\n",
       "    </tr>\n",
       "    <tr>\n",
       "      <th>889</th>\n",
       "      <td>0</td>\n",
       "      <td>3</td>\n",
       "      <td>Johnston, Miss. Catherine Helen \"Carrie\"</td>\n",
       "      <td>female</td>\n",
       "      <td>NaN</td>\n",
       "      <td>1</td>\n",
       "      <td>2</td>\n",
       "      <td>W./C. 6607</td>\n",
       "      <td>23.4500</td>\n",
       "      <td>NaN</td>\n",
       "      <td>S</td>\n",
       "    </tr>\n",
       "    <tr>\n",
       "      <th>890</th>\n",
       "      <td>1</td>\n",
       "      <td>1</td>\n",
       "      <td>Behr, Mr. Karl Howell</td>\n",
       "      <td>male</td>\n",
       "      <td>26.0</td>\n",
       "      <td>0</td>\n",
       "      <td>0</td>\n",
       "      <td>111369</td>\n",
       "      <td>30.0000</td>\n",
       "      <td>C148</td>\n",
       "      <td>C</td>\n",
       "    </tr>\n",
       "    <tr>\n",
       "      <th>891</th>\n",
       "      <td>0</td>\n",
       "      <td>3</td>\n",
       "      <td>Dooley, Mr. Patrick</td>\n",
       "      <td>male</td>\n",
       "      <td>32.0</td>\n",
       "      <td>0</td>\n",
       "      <td>0</td>\n",
       "      <td>370376</td>\n",
       "      <td>7.7500</td>\n",
       "      <td>NaN</td>\n",
       "      <td>Q</td>\n",
       "    </tr>\n",
       "  </tbody>\n",
       "</table>\n",
       "<p>891 rows × 11 columns</p>\n",
       "</div>"
      ],
      "text/plain": [
       "             Survived  Pclass  \\\n",
       "PassengerId                     \n",
       "1                   0       3   \n",
       "2                   1       1   \n",
       "3                   1       3   \n",
       "4                   1       1   \n",
       "5                   0       3   \n",
       "...               ...     ...   \n",
       "887                 0       2   \n",
       "888                 1       1   \n",
       "889                 0       3   \n",
       "890                 1       1   \n",
       "891                 0       3   \n",
       "\n",
       "                                                          Name     Sex   Age  \\\n",
       "PassengerId                                                                    \n",
       "1                                      Braund, Mr. Owen Harris    male  22.0   \n",
       "2            Cumings, Mrs. John Bradley (Florence Briggs Th...  female  38.0   \n",
       "3                                       Heikkinen, Miss. Laina  female  26.0   \n",
       "4                 Futrelle, Mrs. Jacques Heath (Lily May Peel)  female  35.0   \n",
       "5                                     Allen, Mr. William Henry    male  35.0   \n",
       "...                                                        ...     ...   ...   \n",
       "887                                      Montvila, Rev. Juozas    male  27.0   \n",
       "888                               Graham, Miss. Margaret Edith  female  19.0   \n",
       "889                   Johnston, Miss. Catherine Helen \"Carrie\"  female   NaN   \n",
       "890                                      Behr, Mr. Karl Howell    male  26.0   \n",
       "891                                        Dooley, Mr. Patrick    male  32.0   \n",
       "\n",
       "             SibSp  Parch            Ticket     Fare Cabin Embarked  \n",
       "PassengerId                                                          \n",
       "1                1      0         A/5 21171   7.2500   NaN        S  \n",
       "2                1      0          PC 17599  71.2833   C85        C  \n",
       "3                0      0  STON/O2. 3101282   7.9250   NaN        S  \n",
       "4                1      0            113803  53.1000  C123        S  \n",
       "5                0      0            373450   8.0500   NaN        S  \n",
       "...            ...    ...               ...      ...   ...      ...  \n",
       "887              0      0            211536  13.0000   NaN        S  \n",
       "888              0      0            112053  30.0000   B42        S  \n",
       "889              1      2        W./C. 6607  23.4500   NaN        S  \n",
       "890              0      0            111369  30.0000  C148        C  \n",
       "891              0      0            370376   7.7500   NaN        Q  \n",
       "\n",
       "[891 rows x 11 columns]"
      ]
     },
     "execution_count": 4,
     "metadata": {},
     "output_type": "execute_result"
    }
   ],
   "source": [
    "features"
   ]
  },
  {
   "cell_type": "code",
   "execution_count": 5,
   "id": "28c295f0",
   "metadata": {},
   "outputs": [],
   "source": [
    "# 결측치 제거"
   ]
  },
  {
   "cell_type": "code",
   "execution_count": 6,
   "id": "8551a6d6",
   "metadata": {},
   "outputs": [
    {
     "name": "stdout",
     "output_type": "stream",
     "text": [
      "<class 'pandas.core.frame.DataFrame'>\n",
      "Int64Index: 891 entries, 1 to 891\n",
      "Data columns (total 11 columns):\n",
      " #   Column    Non-Null Count  Dtype  \n",
      "---  ------    --------------  -----  \n",
      " 0   Survived  891 non-null    int64  \n",
      " 1   Pclass    891 non-null    int64  \n",
      " 2   Name      891 non-null    object \n",
      " 3   Sex       891 non-null    object \n",
      " 4   Age       714 non-null    float64\n",
      " 5   SibSp     891 non-null    int64  \n",
      " 6   Parch     891 non-null    int64  \n",
      " 7   Ticket    891 non-null    object \n",
      " 8   Fare      891 non-null    float64\n",
      " 9   Cabin     204 non-null    object \n",
      " 10  Embarked  889 non-null    object \n",
      "dtypes: float64(2), int64(4), object(5)\n",
      "memory usage: 83.5+ KB\n"
     ]
    }
   ],
   "source": [
    "features.info()"
   ]
  },
  {
   "cell_type": "code",
   "execution_count": 7,
   "id": "f5253ee7",
   "metadata": {},
   "outputs": [
    {
     "data": {
      "text/plain": [
       "Survived      0\n",
       "Pclass        0\n",
       "Name          0\n",
       "Sex           0\n",
       "Age         177\n",
       "SibSp         0\n",
       "Parch         0\n",
       "Ticket        0\n",
       "Fare          0\n",
       "Cabin       687\n",
       "Embarked      2\n",
       "dtype: int64"
      ]
     },
     "execution_count": 7,
     "metadata": {},
     "output_type": "execute_result"
    }
   ],
   "source": [
    "features.isnull().sum()"
   ]
  },
  {
   "cell_type": "code",
   "execution_count": 8,
   "id": "38ed5766",
   "metadata": {},
   "outputs": [
    {
     "data": {
      "text/html": [
       "<div>\n",
       "<style scoped>\n",
       "    .dataframe tbody tr th:only-of-type {\n",
       "        vertical-align: middle;\n",
       "    }\n",
       "\n",
       "    .dataframe tbody tr th {\n",
       "        vertical-align: top;\n",
       "    }\n",
       "\n",
       "    .dataframe thead th {\n",
       "        text-align: right;\n",
       "    }\n",
       "</style>\n",
       "<table border=\"1\" class=\"dataframe\">\n",
       "  <thead>\n",
       "    <tr style=\"text-align: right;\">\n",
       "      <th></th>\n",
       "      <th>Pclass</th>\n",
       "      <th>Sex</th>\n",
       "      <th>SibSp</th>\n",
       "      <th>Parch</th>\n",
       "      <th>Ticket</th>\n",
       "      <th>Fare</th>\n",
       "    </tr>\n",
       "    <tr>\n",
       "      <th>PassengerId</th>\n",
       "      <th></th>\n",
       "      <th></th>\n",
       "      <th></th>\n",
       "      <th></th>\n",
       "      <th></th>\n",
       "      <th></th>\n",
       "    </tr>\n",
       "  </thead>\n",
       "  <tbody>\n",
       "    <tr>\n",
       "      <th>1</th>\n",
       "      <td>3</td>\n",
       "      <td>male</td>\n",
       "      <td>1</td>\n",
       "      <td>0</td>\n",
       "      <td>A/5 21171</td>\n",
       "      <td>7.2500</td>\n",
       "    </tr>\n",
       "    <tr>\n",
       "      <th>2</th>\n",
       "      <td>1</td>\n",
       "      <td>female</td>\n",
       "      <td>1</td>\n",
       "      <td>0</td>\n",
       "      <td>PC 17599</td>\n",
       "      <td>71.2833</td>\n",
       "    </tr>\n",
       "    <tr>\n",
       "      <th>3</th>\n",
       "      <td>3</td>\n",
       "      <td>female</td>\n",
       "      <td>0</td>\n",
       "      <td>0</td>\n",
       "      <td>STON/O2. 3101282</td>\n",
       "      <td>7.9250</td>\n",
       "    </tr>\n",
       "    <tr>\n",
       "      <th>4</th>\n",
       "      <td>1</td>\n",
       "      <td>female</td>\n",
       "      <td>1</td>\n",
       "      <td>0</td>\n",
       "      <td>113803</td>\n",
       "      <td>53.1000</td>\n",
       "    </tr>\n",
       "    <tr>\n",
       "      <th>5</th>\n",
       "      <td>3</td>\n",
       "      <td>male</td>\n",
       "      <td>0</td>\n",
       "      <td>0</td>\n",
       "      <td>373450</td>\n",
       "      <td>8.0500</td>\n",
       "    </tr>\n",
       "    <tr>\n",
       "      <th>...</th>\n",
       "      <td>...</td>\n",
       "      <td>...</td>\n",
       "      <td>...</td>\n",
       "      <td>...</td>\n",
       "      <td>...</td>\n",
       "      <td>...</td>\n",
       "    </tr>\n",
       "    <tr>\n",
       "      <th>887</th>\n",
       "      <td>2</td>\n",
       "      <td>male</td>\n",
       "      <td>0</td>\n",
       "      <td>0</td>\n",
       "      <td>211536</td>\n",
       "      <td>13.0000</td>\n",
       "    </tr>\n",
       "    <tr>\n",
       "      <th>888</th>\n",
       "      <td>1</td>\n",
       "      <td>female</td>\n",
       "      <td>0</td>\n",
       "      <td>0</td>\n",
       "      <td>112053</td>\n",
       "      <td>30.0000</td>\n",
       "    </tr>\n",
       "    <tr>\n",
       "      <th>889</th>\n",
       "      <td>3</td>\n",
       "      <td>female</td>\n",
       "      <td>1</td>\n",
       "      <td>2</td>\n",
       "      <td>W./C. 6607</td>\n",
       "      <td>23.4500</td>\n",
       "    </tr>\n",
       "    <tr>\n",
       "      <th>890</th>\n",
       "      <td>1</td>\n",
       "      <td>male</td>\n",
       "      <td>0</td>\n",
       "      <td>0</td>\n",
       "      <td>111369</td>\n",
       "      <td>30.0000</td>\n",
       "    </tr>\n",
       "    <tr>\n",
       "      <th>891</th>\n",
       "      <td>3</td>\n",
       "      <td>male</td>\n",
       "      <td>0</td>\n",
       "      <td>0</td>\n",
       "      <td>370376</td>\n",
       "      <td>7.7500</td>\n",
       "    </tr>\n",
       "  </tbody>\n",
       "</table>\n",
       "<p>891 rows × 6 columns</p>\n",
       "</div>"
      ],
      "text/plain": [
       "             Pclass     Sex  SibSp  Parch            Ticket     Fare\n",
       "PassengerId                                                         \n",
       "1                 3    male      1      0         A/5 21171   7.2500\n",
       "2                 1  female      1      0          PC 17599  71.2833\n",
       "3                 3  female      0      0  STON/O2. 3101282   7.9250\n",
       "4                 1  female      1      0            113803  53.1000\n",
       "5                 3    male      0      0            373450   8.0500\n",
       "...             ...     ...    ...    ...               ...      ...\n",
       "887               2    male      0      0            211536  13.0000\n",
       "888               1  female      0      0            112053  30.0000\n",
       "889               3  female      1      2        W./C. 6607  23.4500\n",
       "890               1    male      0      0            111369  30.0000\n",
       "891               3    male      0      0            370376   7.7500\n",
       "\n",
       "[891 rows x 6 columns]"
      ]
     },
     "execution_count": 8,
     "metadata": {},
     "output_type": "execute_result"
    }
   ],
   "source": [
    "data = features.drop(columns = ['Survived', 'Name', 'Cabin', 'Age', 'Embarked'])\n",
    "\n",
    "data"
   ]
  },
  {
   "cell_type": "code",
   "execution_count": 9,
   "id": "ce54adaf",
   "metadata": {},
   "outputs": [
    {
     "data": {
      "text/plain": [
       "Pclass    0\n",
       "Sex       0\n",
       "SibSp     0\n",
       "Parch     0\n",
       "Ticket    0\n",
       "Fare      0\n",
       "dtype: int64"
      ]
     },
     "execution_count": 9,
     "metadata": {},
     "output_type": "execute_result"
    }
   ],
   "source": [
    "data.isnull().sum()"
   ]
  },
  {
   "cell_type": "code",
   "execution_count": 10,
   "id": "5f963c5c",
   "metadata": {},
   "outputs": [],
   "source": [
    "# Survived를 타겟 레이블로 삼아서 EDA 수행"
   ]
  },
  {
   "cell_type": "code",
   "execution_count": 11,
   "id": "d023d02c",
   "metadata": {},
   "outputs": [],
   "source": [
    "label = features['Survived']"
   ]
  },
  {
   "cell_type": "code",
   "execution_count": 12,
   "id": "11161ed7",
   "metadata": {},
   "outputs": [
    {
     "data": {
      "text/plain": [
       "PassengerId\n",
       "1      0\n",
       "2      1\n",
       "3      1\n",
       "4      1\n",
       "5      0\n",
       "      ..\n",
       "887    0\n",
       "888    1\n",
       "889    0\n",
       "890    1\n",
       "891    0\n",
       "Name: Survived, Length: 891, dtype: int64"
      ]
     },
     "execution_count": 12,
     "metadata": {},
     "output_type": "execute_result"
    }
   ],
   "source": [
    "label"
   ]
  },
  {
   "cell_type": "code",
   "execution_count": 13,
   "id": "b8886003",
   "metadata": {},
   "outputs": [],
   "source": [
    "# 1. Pclass 레이블별 갯수 및 차트표시"
   ]
  },
  {
   "cell_type": "code",
   "execution_count": 14,
   "id": "626eb976",
   "metadata": {
    "scrolled": false
   },
   "outputs": [
    {
     "data": {
      "text/plain": [
       "<AxesSubplot:xlabel='Pclass', ylabel='count'>"
      ]
     },
     "execution_count": 14,
     "metadata": {},
     "output_type": "execute_result"
    },
    {
     "data": {
      "image/png": "[encoded data removed]",
      "text/plain": [
       "<Figure size 640x480 with 1 Axes>"
      ]
     },
     "metadata": {},
     "output_type": "display_data"
    }
   ],
   "source": [
    "sns.countplot(data = data, x = \"Pclass\")"
   ]
  },
  {
   "cell_type": "code",
   "execution_count": 15,
   "id": "d1f1b5ae",
   "metadata": {},
   "outputs": [
    {
     "data": {
      "text/plain": [
       "<AxesSubplot:ylabel='Pclass'>"
      ]
     },
     "execution_count": 15,
     "metadata": {},
     "output_type": "execute_result"
    },
    {
     "data": {
      "image/png": "[encoded data removed]",
      "text/plain": [
       "<Figure size 640x480 with 1 Axes>"
      ]
     },
     "metadata": {},
     "output_type": "display_data"
    }
   ],
   "source": [
    "df = data.Pclass.value_counts()\n",
    "df.plot.pie(autopct='%.2f%%')"
   ]
  },
  {
   "cell_type": "code",
   "execution_count": 16,
   "id": "013b9088",
   "metadata": {},
   "outputs": [
    {
     "data": {
      "text/html": [
       "<div>\n",
       "<style scoped>\n",
       "    .dataframe tbody tr th:only-of-type {\n",
       "        vertical-align: middle;\n",
       "    }\n",
       "\n",
       "    .dataframe tbody tr th {\n",
       "        vertical-align: top;\n",
       "    }\n",
       "\n",
       "    .dataframe thead th {\n",
       "        text-align: right;\n",
       "    }\n",
       "</style>\n",
       "<table border=\"1\" class=\"dataframe\">\n",
       "  <thead>\n",
       "    <tr style=\"text-align: right;\">\n",
       "      <th>Sex</th>\n",
       "      <th>female</th>\n",
       "      <th>male</th>\n",
       "    </tr>\n",
       "    <tr>\n",
       "      <th>Pclass</th>\n",
       "      <th></th>\n",
       "      <th></th>\n",
       "    </tr>\n",
       "  </thead>\n",
       "  <tbody>\n",
       "    <tr>\n",
       "      <th>1</th>\n",
       "      <td>94</td>\n",
       "      <td>122</td>\n",
       "    </tr>\n",
       "    <tr>\n",
       "      <th>2</th>\n",
       "      <td>76</td>\n",
       "      <td>108</td>\n",
       "    </tr>\n",
       "    <tr>\n",
       "      <th>3</th>\n",
       "      <td>144</td>\n",
       "      <td>347</td>\n",
       "    </tr>\n",
       "  </tbody>\n",
       "</table>\n",
       "</div>"
      ],
      "text/plain": [
       "Sex     female  male\n",
       "Pclass              \n",
       "1           94   122\n",
       "2           76   108\n",
       "3          144   347"
      ]
     },
     "execution_count": 16,
     "metadata": {},
     "output_type": "execute_result"
    }
   ],
   "source": [
    "titanic_size = data.pivot_table(\n",
    "    index = \"Pclass\", columns = \"Sex\", aggfunc = \"size\")\n",
    "\n",
    "titanic_size"
   ]
  },
  {
   "cell_type": "code",
   "execution_count": 17,
   "id": "9061dcf3",
   "metadata": {},
   "outputs": [],
   "source": [
    "# 2. 생존자와 사망자 총 숫자 및 차트표시"
   ]
  },
  {
   "cell_type": "code",
   "execution_count": 18,
   "id": "dd895730",
   "metadata": {
    "scrolled": false
   },
   "outputs": [
    {
     "data": {
      "text/plain": [
       "<AxesSubplot:xlabel='Survived', ylabel='count'>"
      ]
     },
     "execution_count": 18,
     "metadata": {},
     "output_type": "execute_result"
    },
    {
     "data": {
      "image/png": "[encoded data removed]",
      "text/plain": [
       "<Figure size 640x480 with 1 Axes>"
      ]
     },
     "metadata": {},
     "output_type": "display_data"
    }
   ],
   "source": [
    "sns.countplot(data = data, x = label)"
   ]
  },
  {
   "cell_type": "code",
   "execution_count": 19,
   "id": "53035152",
   "metadata": {
    "scrolled": false
   },
   "outputs": [
    {
     "data": {
      "text/plain": [
       "<AxesSubplot:ylabel='Survived'>"
      ]
     },
     "execution_count": 19,
     "metadata": {},
     "output_type": "execute_result"
    },
    {
     "data": {
      "image/png": "[encoded data removed]",
      "text/plain": [
       "<Figure size 640x480 with 1 Axes>"
      ]
     },
     "metadata": {},
     "output_type": "display_data"
    }
   ],
   "source": [
    "df = features.Survived.value_counts()\n",
    "df.plot.pie(autopct='%.2f%%')"
   ]
  },
  {
   "cell_type": "code",
   "execution_count": 20,
   "id": "297baf85",
   "metadata": {},
   "outputs": [],
   "source": [
    "# 3. 성별, 티켓클래스(Pclass), 생존여부(Survived) 상관관계 분석"
   ]
  },
  {
   "cell_type": "code",
   "execution_count": 21,
   "id": "8dca003d",
   "metadata": {},
   "outputs": [
    {
     "name": "stdout",
     "output_type": "stream",
     "text": [
      "male      577\n",
      "female    314\n",
      "Name: Sex, dtype: int64\n"
     ]
    }
   ],
   "source": [
    "print(features['Sex'].value_counts())"
   ]
  },
  {
   "cell_type": "code",
   "execution_count": 22,
   "id": "71071b91",
   "metadata": {},
   "outputs": [
    {
     "name": "stdout",
     "output_type": "stream",
     "text": [
      "3    491\n",
      "1    216\n",
      "2    184\n",
      "Name: Pclass, dtype: int64\n"
     ]
    }
   ],
   "source": [
    "print(features['Pclass'].value_counts())"
   ]
  },
  {
   "cell_type": "code",
   "execution_count": 23,
   "id": "5976099c",
   "metadata": {},
   "outputs": [
    {
     "name": "stdout",
     "output_type": "stream",
     "text": [
      "0    549\n",
      "1    342\n",
      "Name: Survived, dtype: int64\n"
     ]
    }
   ],
   "source": [
    "print(features['Survived'].value_counts())"
   ]
  },
  {
   "cell_type": "code",
   "execution_count": 24,
   "id": "8dee9ba9",
   "metadata": {},
   "outputs": [
    {
     "data": {
      "text/plain": [
       "Sex     Pclass  Survived\n",
       "female  1       0             3\n",
       "                1            91\n",
       "        2       0             6\n",
       "                1            70\n",
       "        3       0            72\n",
       "                1            72\n",
       "male    1       0            77\n",
       "                1            45\n",
       "        2       0            91\n",
       "                1            17\n",
       "        3       0           300\n",
       "                1            47\n",
       "Name: Survived, dtype: int64"
      ]
     },
     "execution_count": 24,
     "metadata": {},
     "output_type": "execute_result"
    }
   ],
   "source": [
    "features.groupby(['Sex', 'Pclass', 'Survived'])['Survived'].count()"
   ]
  },
  {
   "cell_type": "code",
   "execution_count": 25,
   "id": "321f13ee",
   "metadata": {},
   "outputs": [
    {
     "data": {
      "text/plain": [
       "<AxesSubplot:xlabel='Sex', ylabel='Survived'>"
      ]
     },
     "execution_count": 25,
     "metadata": {},
     "output_type": "execute_result"
    },
    {
     "data": {
      "image/png": "[encoded data removed]",
      "text/plain": [
       "<Figure size 640x480 with 1 Axes>"
      ]
     },
     "metadata": {},
     "output_type": "display_data"
    }
   ],
   "source": [
    "sns.barplot(x = 'Sex', y = 'Survived', hue = 'Pclass', data = features)"
   ]
  },
  {
   "cell_type": "code",
   "execution_count": 26,
   "id": "b88099f9",
   "metadata": {},
   "outputs": [],
   "source": [
    "# 4. X_train, y_ytrain, X_test, y_test로 나누고 생존여부(Survived)에 따라 각각 분류(SVM, LR, DT, RT, KNN) 수행"
   ]
  },
  {
   "cell_type": "code",
   "execution_count": 29,
   "id": "f2a1aca4",
   "metadata": {},
   "outputs": [],
   "source": [
    "from sklearn.preprocessing import LabelEncoder\n",
    "\n",
    "le = LabelEncoder()\n",
    "for i in data.columns:\n",
    "    data[i] = le.fit_transform(data[i])"
   ]
  },
  {
   "cell_type": "code",
   "execution_count": 30,
   "id": "5763edbc",
   "metadata": {},
   "outputs": [
    {
     "data": {
      "text/html": [
       "<div>\n",
       "<style scoped>\n",
       "    .dataframe tbody tr th:only-of-type {\n",
       "        vertical-align: middle;\n",
       "    }\n",
       "\n",
       "    .dataframe tbody tr th {\n",
       "        vertical-align: top;\n",
       "    }\n",
       "\n",
       "    .dataframe thead th {\n",
       "        text-align: right;\n",
       "    }\n",
       "</style>\n",
       "<table border=\"1\" class=\"dataframe\">\n",
       "  <thead>\n",
       "    <tr style=\"text-align: right;\">\n",
       "      <th></th>\n",
       "      <th>Pclass</th>\n",
       "      <th>Sex</th>\n",
       "      <th>SibSp</th>\n",
       "      <th>Parch</th>\n",
       "      <th>Ticket</th>\n",
       "      <th>Fare</th>\n",
       "    </tr>\n",
       "    <tr>\n",
       "      <th>PassengerId</th>\n",
       "      <th></th>\n",
       "      <th></th>\n",
       "      <th></th>\n",
       "      <th></th>\n",
       "      <th></th>\n",
       "      <th></th>\n",
       "    </tr>\n",
       "  </thead>\n",
       "  <tbody>\n",
       "    <tr>\n",
       "      <th>1</th>\n",
       "      <td>2</td>\n",
       "      <td>1</td>\n",
       "      <td>1</td>\n",
       "      <td>0</td>\n",
       "      <td>523</td>\n",
       "      <td>18</td>\n",
       "    </tr>\n",
       "    <tr>\n",
       "      <th>2</th>\n",
       "      <td>0</td>\n",
       "      <td>0</td>\n",
       "      <td>1</td>\n",
       "      <td>0</td>\n",
       "      <td>596</td>\n",
       "      <td>207</td>\n",
       "    </tr>\n",
       "    <tr>\n",
       "      <th>3</th>\n",
       "      <td>2</td>\n",
       "      <td>0</td>\n",
       "      <td>0</td>\n",
       "      <td>0</td>\n",
       "      <td>669</td>\n",
       "      <td>41</td>\n",
       "    </tr>\n",
       "    <tr>\n",
       "      <th>4</th>\n",
       "      <td>0</td>\n",
       "      <td>0</td>\n",
       "      <td>1</td>\n",
       "      <td>0</td>\n",
       "      <td>49</td>\n",
       "      <td>189</td>\n",
       "    </tr>\n",
       "    <tr>\n",
       "      <th>5</th>\n",
       "      <td>2</td>\n",
       "      <td>1</td>\n",
       "      <td>0</td>\n",
       "      <td>0</td>\n",
       "      <td>472</td>\n",
       "      <td>43</td>\n",
       "    </tr>\n",
       "    <tr>\n",
       "      <th>...</th>\n",
       "      <td>...</td>\n",
       "      <td>...</td>\n",
       "      <td>...</td>\n",
       "      <td>...</td>\n",
       "      <td>...</td>\n",
       "      <td>...</td>\n",
       "    </tr>\n",
       "    <tr>\n",
       "      <th>887</th>\n",
       "      <td>1</td>\n",
       "      <td>1</td>\n",
       "      <td>0</td>\n",
       "      <td>0</td>\n",
       "      <td>101</td>\n",
       "      <td>85</td>\n",
       "    </tr>\n",
       "    <tr>\n",
       "      <th>888</th>\n",
       "      <td>0</td>\n",
       "      <td>0</td>\n",
       "      <td>0</td>\n",
       "      <td>0</td>\n",
       "      <td>14</td>\n",
       "      <td>153</td>\n",
       "    </tr>\n",
       "    <tr>\n",
       "      <th>889</th>\n",
       "      <td>2</td>\n",
       "      <td>0</td>\n",
       "      <td>1</td>\n",
       "      <td>2</td>\n",
       "      <td>675</td>\n",
       "      <td>131</td>\n",
       "    </tr>\n",
       "    <tr>\n",
       "      <th>890</th>\n",
       "      <td>0</td>\n",
       "      <td>1</td>\n",
       "      <td>0</td>\n",
       "      <td>0</td>\n",
       "      <td>8</td>\n",
       "      <td>153</td>\n",
       "    </tr>\n",
       "    <tr>\n",
       "      <th>891</th>\n",
       "      <td>2</td>\n",
       "      <td>1</td>\n",
       "      <td>0</td>\n",
       "      <td>0</td>\n",
       "      <td>466</td>\n",
       "      <td>30</td>\n",
       "    </tr>\n",
       "  </tbody>\n",
       "</table>\n",
       "<p>891 rows × 6 columns</p>\n",
       "</div>"
      ],
      "text/plain": [
       "             Pclass  Sex  SibSp  Parch  Ticket  Fare\n",
       "PassengerId                                         \n",
       "1                 2    1      1      0     523    18\n",
       "2                 0    0      1      0     596   207\n",
       "3                 2    0      0      0     669    41\n",
       "4                 0    0      1      0      49   189\n",
       "5                 2    1      0      0     472    43\n",
       "...             ...  ...    ...    ...     ...   ...\n",
       "887               1    1      0      0     101    85\n",
       "888               0    0      0      0      14   153\n",
       "889               2    0      1      2     675   131\n",
       "890               0    1      0      0       8   153\n",
       "891               2    1      0      0     466    30\n",
       "\n",
       "[891 rows x 6 columns]"
      ]
     },
     "execution_count": 30,
     "metadata": {},
     "output_type": "execute_result"
    }
   ],
   "source": [
    "data"
   ]
  },
  {
   "cell_type": "code",
   "execution_count": 59,
   "id": "3747bbf3",
   "metadata": {},
   "outputs": [],
   "source": [
    "#Splitting the data into training and test test\n",
    "X = data.iloc[:,0:6].values\n",
    "y = label\n",
    "\n",
    "from sklearn.preprocessing import LabelEncoder\n",
    "encoder =  LabelEncoder()\n",
    "y1 = encoder.fit_transform(y)\n",
    "\n",
    "Y = pd.get_dummies(y1).values\n",
    "\n",
    "\n",
    "from sklearn.model_selection import train_test_split\n",
    "X_train,X_test, y_train,y_test = train_test_split(X,Y,test_size=0.2,random_state=0) "
   ]
  },
  {
   "cell_type": "code",
   "execution_count": 60,
   "id": "8928c71b",
   "metadata": {},
   "outputs": [
    {
     "data": {
      "text/plain": [
       "array([[  2,   1,   1,   0, 523,  18],\n",
       "       [  0,   0,   1,   0, 596, 207],\n",
       "       [  2,   0,   0,   0, 669,  41],\n",
       "       ...,\n",
       "       [  2,   0,   1,   2, 675, 131],\n",
       "       [  0,   1,   0,   0,   8, 153],\n",
       "       [  2,   1,   0,   0, 466,  30]], dtype=int64)"
      ]
     },
     "execution_count": 60,
     "metadata": {},
     "output_type": "execute_result"
    }
   ],
   "source": [
    "X"
   ]
  },
  {
   "cell_type": "code",
   "execution_count": 61,
   "id": "a97173c5",
   "metadata": {},
   "outputs": [
    {
     "data": {
      "text/plain": [
       "array([[1, 0],\n",
       "       [0, 1],\n",
       "       [0, 1],\n",
       "       ...,\n",
       "       [1, 0],\n",
       "       [0, 1],\n",
       "       [1, 0]], dtype=uint8)"
      ]
     },
     "execution_count": 61,
     "metadata": {},
     "output_type": "execute_result"
    }
   ],
   "source": [
    "Y"
   ]
  },
  {
   "cell_type": "code",
   "execution_count": 65,
   "id": "2219ca13",
   "metadata": {},
   "outputs": [
    {
     "name": "stdout",
     "output_type": "stream",
     "text": [
      "Model: \"sequential_5\"\n",
      "_________________________________________________________________\n",
      " Layer (type)                Output Shape              Param #   \n",
      "=================================================================\n",
      " dense_20 (Dense)            (None, 10)                70        \n",
      "                                                                 \n",
      " dense_21 (Dense)            (None, 8)                 88        \n",
      "                                                                 \n",
      " dense_22 (Dense)            (None, 6)                 54        \n",
      "                                                                 \n",
      " dense_23 (Dense)            (None, 2)                 14        \n",
      "                                                                 \n",
      "=================================================================\n",
      "Total params: 226\n",
      "Trainable params: 226\n",
      "Non-trainable params: 0\n",
      "_________________________________________________________________\n"
     ]
    }
   ],
   "source": [
    "#Defining the model \n",
    "\n",
    "from keras.models import Sequential\n",
    "from keras.layers import Dense\n",
    "from keras.optimizers import SGD,Adam\n",
    "\n",
    "\n",
    "model = Sequential()\n",
    "\n",
    "model.add(Dense(10,input_shape=(6,),activation='tanh'))\n",
    "model.add(Dense(8,activation='tanh'))\n",
    "model.add(Dense(6,activation='tanh'))\n",
    "model.add(Dense(2,activation='softmax'))\n",
    "\n",
    "model.compile(Adam(lr=0.04),'categorical_crossentropy',metrics=['accuracy'])\n",
    "\n",
    "model.summary()"
   ]
  },
  {
   "cell_type": "code",
   "execution_count": 66,
   "id": "97921e33",
   "metadata": {
    "scrolled": true
   },
   "outputs": [
    {
     "name": "stdout",
     "output_type": "stream",
     "text": [
      "Epoch 1/100\n",
      "23/23 [==============================] - 3s 38ms/step - loss: 0.6919 - accuracy: 0.5927 - val_loss: 0.6481 - val_accuracy: 0.6145\n",
      "Epoch 2/100\n",
      "23/23 [==============================] - 0s 11ms/step - loss: 0.6422 - accuracy: 0.6756 - val_loss: 0.6784 - val_accuracy: 0.6760\n",
      "Epoch 3/100\n",
      "23/23 [==============================] - 0s 11ms/step - loss: 0.6647 - accuracy: 0.6081 - val_loss: 0.6167 - val_accuracy: 0.6983\n",
      "Epoch 4/100\n",
      "23/23 [==============================] - 0s 11ms/step - loss: 0.6533 - accuracy: 0.6390 - val_loss: 0.6192 - val_accuracy: 0.6816\n",
      "Epoch 5/100\n",
      "23/23 [==============================] - 0s 10ms/step - loss: 0.6243 - accuracy: 0.6770 - val_loss: 0.5938 - val_accuracy: 0.6648\n",
      "Epoch 6/100\n",
      "23/23 [==============================] - 0s 11ms/step - loss: 0.6547 - accuracy: 0.5955 - val_loss: 0.6159 - val_accuracy: 0.6145\n",
      "Epoch 7/100\n",
      "23/23 [==============================] - 0s 15ms/step - loss: 0.6390 - accuracy: 0.6629 - val_loss: 0.6328 - val_accuracy: 0.6145\n",
      "Epoch 8/100\n",
      "23/23 [==============================] - 0s 13ms/step - loss: 0.6332 - accuracy: 0.6685 - val_loss: 0.6169 - val_accuracy: 0.6927\n",
      "Epoch 9/100\n",
      "23/23 [==============================] - 0s 11ms/step - loss: 0.6353 - accuracy: 0.6756 - val_loss: 0.6192 - val_accuracy: 0.6816\n",
      "Epoch 10/100\n",
      "23/23 [==============================] - 0s 10ms/step - loss: 0.6755 - accuracy: 0.6096 - val_loss: 0.6769 - val_accuracy: 0.6145\n",
      "Epoch 11/100\n",
      "23/23 [==============================] - 0s 11ms/step - loss: 0.6834 - accuracy: 0.6166 - val_loss: 0.6690 - val_accuracy: 0.6145\n",
      "Epoch 12/100\n",
      "23/23 [==============================] - 0s 10ms/step - loss: 0.6710 - accuracy: 0.6166 - val_loss: 0.6795 - val_accuracy: 0.6145\n",
      "Epoch 13/100\n",
      "23/23 [==============================] - 0s 10ms/step - loss: 0.6712 - accuracy: 0.6166 - val_loss: 0.6686 - val_accuracy: 0.6145\n",
      "Epoch 14/100\n",
      "23/23 [==============================] - 0s 11ms/step - loss: 0.6686 - accuracy: 0.6166 - val_loss: 0.6722 - val_accuracy: 0.6145\n",
      "Epoch 15/100\n",
      "23/23 [==============================] - 0s 11ms/step - loss: 0.6684 - accuracy: 0.6166 - val_loss: 0.6701 - val_accuracy: 0.6145\n",
      "Epoch 16/100\n",
      "23/23 [==============================] - 0s 11ms/step - loss: 0.6700 - accuracy: 0.6166 - val_loss: 0.6661 - val_accuracy: 0.6145\n",
      "Epoch 17/100\n",
      "23/23 [==============================] - 0s 9ms/step - loss: 0.6647 - accuracy: 0.6166 - val_loss: 0.6732 - val_accuracy: 0.6145\n",
      "Epoch 18/100\n",
      "23/23 [==============================] - 0s 10ms/step - loss: 0.6740 - accuracy: 0.6166 - val_loss: 0.6677 - val_accuracy: 0.6145\n",
      "Epoch 19/100\n",
      "23/23 [==============================] - 0s 10ms/step - loss: 0.6692 - accuracy: 0.6166 - val_loss: 0.6659 - val_accuracy: 0.6145\n",
      "Epoch 20/100\n",
      "23/23 [==============================] - 0s 10ms/step - loss: 0.6706 - accuracy: 0.6166 - val_loss: 0.6687 - val_accuracy: 0.6145\n",
      "Epoch 21/100\n",
      "23/23 [==============================] - 0s 11ms/step - loss: 0.6682 - accuracy: 0.6166 - val_loss: 0.6698 - val_accuracy: 0.6145\n",
      "Epoch 22/100\n",
      "23/23 [==============================] - 0s 10ms/step - loss: 0.6472 - accuracy: 0.6166 - val_loss: 0.6095 - val_accuracy: 0.6145\n",
      "Epoch 23/100\n",
      "23/23 [==============================] - 0s 10ms/step - loss: 0.6328 - accuracy: 0.6671 - val_loss: 0.6221 - val_accuracy: 0.6872\n",
      "Epoch 24/100\n",
      "23/23 [==============================] - 0s 9ms/step - loss: 0.6453 - accuracy: 0.6699 - val_loss: 0.6242 - val_accuracy: 0.6872\n",
      "Epoch 25/100\n",
      "23/23 [==============================] - 0s 11ms/step - loss: 0.6446 - accuracy: 0.6671 - val_loss: 0.6172 - val_accuracy: 0.6983\n",
      "Epoch 26/100\n",
      "23/23 [==============================] - 0s 9ms/step - loss: 0.6362 - accuracy: 0.6770 - val_loss: 0.6185 - val_accuracy: 0.6927\n",
      "Epoch 27/100\n",
      "23/23 [==============================] - 0s 11ms/step - loss: 0.6460 - accuracy: 0.6784 - val_loss: 0.6513 - val_accuracy: 0.6983\n",
      "Epoch 28/100\n",
      "23/23 [==============================] - 0s 11ms/step - loss: 0.6522 - accuracy: 0.6784 - val_loss: 0.6398 - val_accuracy: 0.6983\n",
      "Epoch 29/100\n",
      "23/23 [==============================] - 0s 11ms/step - loss: 0.6373 - accuracy: 0.6784 - val_loss: 0.6131 - val_accuracy: 0.6983\n",
      "Epoch 30/100\n",
      "23/23 [==============================] - 0s 11ms/step - loss: 0.6314 - accuracy: 0.6784 - val_loss: 0.6163 - val_accuracy: 0.6983\n",
      "Epoch 31/100\n",
      "23/23 [==============================] - 0s 10ms/step - loss: 0.6383 - accuracy: 0.6784 - val_loss: 0.6160 - val_accuracy: 0.6927\n",
      "Epoch 32/100\n",
      "23/23 [==============================] - 0s 10ms/step - loss: 0.6350 - accuracy: 0.6784 - val_loss: 0.6185 - val_accuracy: 0.6927\n",
      "Epoch 33/100\n",
      "23/23 [==============================] - 0s 14ms/step - loss: 0.6364 - accuracy: 0.6784 - val_loss: 0.6216 - val_accuracy: 0.6927\n",
      "Epoch 34/100\n",
      "23/23 [==============================] - 0s 16ms/step - loss: 0.6336 - accuracy: 0.6784 - val_loss: 0.6292 - val_accuracy: 0.6927\n",
      "Epoch 35/100\n",
      "23/23 [==============================] - 0s 15ms/step - loss: 0.6333 - accuracy: 0.6784 - val_loss: 0.6143 - val_accuracy: 0.6927\n",
      "Epoch 36/100\n",
      "23/23 [==============================] - 0s 10ms/step - loss: 0.6305 - accuracy: 0.6784 - val_loss: 0.6181 - val_accuracy: 0.6927\n",
      "Epoch 37/100\n",
      "23/23 [==============================] - 0s 10ms/step - loss: 0.6347 - accuracy: 0.6784 - val_loss: 0.6161 - val_accuracy: 0.6927\n",
      "Epoch 38/100\n",
      "23/23 [==============================] - 0s 10ms/step - loss: 0.6264 - accuracy: 0.6840 - val_loss: 0.6147 - val_accuracy: 0.6927\n",
      "Epoch 39/100\n",
      "23/23 [==============================] - 0s 10ms/step - loss: 0.6204 - accuracy: 0.6896 - val_loss: 0.6328 - val_accuracy: 0.6704\n",
      "Epoch 40/100\n",
      "23/23 [==============================] - 0s 9ms/step - loss: 0.6440 - accuracy: 0.6671 - val_loss: 0.6398 - val_accuracy: 0.6872\n",
      "Epoch 41/100\n",
      "23/23 [==============================] - 0s 10ms/step - loss: 0.6370 - accuracy: 0.6699 - val_loss: 0.6260 - val_accuracy: 0.6872\n",
      "Epoch 42/100\n",
      "23/23 [==============================] - 0s 11ms/step - loss: 0.6387 - accuracy: 0.6699 - val_loss: 0.6220 - val_accuracy: 0.6872\n",
      "Epoch 43/100\n",
      "23/23 [==============================] - 0s 14ms/step - loss: 0.6358 - accuracy: 0.6728 - val_loss: 0.6147 - val_accuracy: 0.6983\n",
      "Epoch 44/100\n",
      "23/23 [==============================] - 0s 16ms/step - loss: 0.6337 - accuracy: 0.6798 - val_loss: 0.6163 - val_accuracy: 0.6927\n",
      "Epoch 45/100\n",
      "23/23 [==============================] - 0s 11ms/step - loss: 0.6284 - accuracy: 0.6798 - val_loss: 0.6182 - val_accuracy: 0.6927\n",
      "Epoch 46/100\n",
      "23/23 [==============================] - 0s 12ms/step - loss: 0.6328 - accuracy: 0.6798 - val_loss: 0.6174 - val_accuracy: 0.6927\n",
      "Epoch 47/100\n",
      "23/23 [==============================] - 0s 10ms/step - loss: 0.6318 - accuracy: 0.6798 - val_loss: 0.6230 - val_accuracy: 0.6927\n",
      "Epoch 48/100\n",
      "23/23 [==============================] - 0s 10ms/step - loss: 0.6300 - accuracy: 0.6798 - val_loss: 0.6216 - val_accuracy: 0.6927\n",
      "Epoch 49/100\n",
      "23/23 [==============================] - 0s 11ms/step - loss: 0.6383 - accuracy: 0.6798 - val_loss: 0.6194 - val_accuracy: 0.6927\n",
      "Epoch 50/100\n",
      "23/23 [==============================] - 0s 11ms/step - loss: 0.6324 - accuracy: 0.6798 - val_loss: 0.6245 - val_accuracy: 0.6927\n",
      "Epoch 51/100\n",
      "23/23 [==============================] - 0s 10ms/step - loss: 0.6355 - accuracy: 0.6798 - val_loss: 0.6242 - val_accuracy: 0.6927\n",
      "Epoch 52/100\n",
      "23/23 [==============================] - 0s 10ms/step - loss: 0.6468 - accuracy: 0.6798 - val_loss: 0.6172 - val_accuracy: 0.6927\n",
      "Epoch 53/100\n",
      "23/23 [==============================] - 0s 11ms/step - loss: 0.6394 - accuracy: 0.6798 - val_loss: 0.6187 - val_accuracy: 0.6927\n",
      "Epoch 54/100\n",
      "23/23 [==============================] - 0s 11ms/step - loss: 0.6401 - accuracy: 0.6798 - val_loss: 0.6166 - val_accuracy: 0.6927\n",
      "Epoch 55/100\n",
      "23/23 [==============================] - 0s 10ms/step - loss: 0.6400 - accuracy: 0.6798 - val_loss: 0.6179 - val_accuracy: 0.6927\n",
      "Epoch 56/100\n",
      "23/23 [==============================] - 0s 10ms/step - loss: 0.6379 - accuracy: 0.6798 - val_loss: 0.6296 - val_accuracy: 0.6927\n",
      "Epoch 57/100\n",
      "23/23 [==============================] - 0s 10ms/step - loss: 0.6341 - accuracy: 0.6798 - val_loss: 0.6646 - val_accuracy: 0.6927\n",
      "Epoch 58/100\n"
     ]
    },
    {
     "name": "stdout",
     "output_type": "stream",
     "text": [
      "23/23 [==============================] - 0s 10ms/step - loss: 0.6566 - accuracy: 0.6798 - val_loss: 0.6250 - val_accuracy: 0.6927\n",
      "Epoch 59/100\n",
      "23/23 [==============================] - 0s 11ms/step - loss: 0.6306 - accuracy: 0.6798 - val_loss: 0.6159 - val_accuracy: 0.6927\n",
      "Epoch 60/100\n",
      "23/23 [==============================] - 0s 10ms/step - loss: 0.6529 - accuracy: 0.6798 - val_loss: 0.6159 - val_accuracy: 0.6927\n",
      "Epoch 61/100\n",
      "23/23 [==============================] - 0s 9ms/step - loss: 0.6362 - accuracy: 0.6798 - val_loss: 0.6156 - val_accuracy: 0.6927\n",
      "Epoch 62/100\n",
      "23/23 [==============================] - 0s 10ms/step - loss: 0.6343 - accuracy: 0.6798 - val_loss: 0.6173 - val_accuracy: 0.6927\n",
      "Epoch 63/100\n",
      "23/23 [==============================] - 0s 10ms/step - loss: 0.6351 - accuracy: 0.6798 - val_loss: 0.6163 - val_accuracy: 0.6927\n",
      "Epoch 64/100\n",
      "23/23 [==============================] - 0s 13ms/step - loss: 0.6452 - accuracy: 0.6798 - val_loss: 0.6268 - val_accuracy: 0.6927\n",
      "Epoch 65/100\n",
      "23/23 [==============================] - 0s 14ms/step - loss: 0.6396 - accuracy: 0.6798 - val_loss: 0.6260 - val_accuracy: 0.6927\n",
      "Epoch 66/100\n",
      "23/23 [==============================] - 0s 15ms/step - loss: 0.6357 - accuracy: 0.6798 - val_loss: 0.6168 - val_accuracy: 0.6927\n",
      "Epoch 67/100\n",
      "23/23 [==============================] - 0s 15ms/step - loss: 0.6288 - accuracy: 0.6798 - val_loss: 0.6164 - val_accuracy: 0.6927\n",
      "Epoch 68/100\n",
      "23/23 [==============================] - 0s 11ms/step - loss: 0.6438 - accuracy: 0.6798 - val_loss: 0.6178 - val_accuracy: 0.6927\n",
      "Epoch 69/100\n",
      "23/23 [==============================] - 0s 10ms/step - loss: 0.6316 - accuracy: 0.6798 - val_loss: 0.6243 - val_accuracy: 0.6927\n",
      "Epoch 70/100\n",
      "23/23 [==============================] - 0s 9ms/step - loss: 0.6313 - accuracy: 0.6798 - val_loss: 0.6188 - val_accuracy: 0.6927\n",
      "Epoch 71/100\n",
      "23/23 [==============================] - 0s 10ms/step - loss: 0.6347 - accuracy: 0.6798 - val_loss: 0.6728 - val_accuracy: 0.6145\n",
      "Epoch 72/100\n",
      "23/23 [==============================] - 0s 11ms/step - loss: 0.6560 - accuracy: 0.6194 - val_loss: 0.6359 - val_accuracy: 0.6927\n",
      "Epoch 73/100\n",
      "23/23 [==============================] - 0s 11ms/step - loss: 0.6498 - accuracy: 0.6447 - val_loss: 0.6157 - val_accuracy: 0.6927\n",
      "Epoch 74/100\n",
      "23/23 [==============================] - 0s 16ms/step - loss: 0.6378 - accuracy: 0.6798 - val_loss: 0.6159 - val_accuracy: 0.6927\n",
      "Epoch 75/100\n",
      "23/23 [==============================] - 0s 14ms/step - loss: 0.6338 - accuracy: 0.6798 - val_loss: 0.6197 - val_accuracy: 0.6927\n",
      "Epoch 76/100\n",
      "23/23 [==============================] - 0s 10ms/step - loss: 0.6366 - accuracy: 0.6798 - val_loss: 0.6213 - val_accuracy: 0.6927\n",
      "Epoch 77/100\n",
      "23/23 [==============================] - 0s 10ms/step - loss: 0.6568 - accuracy: 0.6798 - val_loss: 0.6302 - val_accuracy: 0.6927\n",
      "Epoch 78/100\n",
      "23/23 [==============================] - 0s 10ms/step - loss: 0.6298 - accuracy: 0.6798 - val_loss: 0.6167 - val_accuracy: 0.6927\n",
      "Epoch 79/100\n",
      "23/23 [==============================] - 0s 11ms/step - loss: 0.6372 - accuracy: 0.6798 - val_loss: 0.6202 - val_accuracy: 0.6927\n",
      "Epoch 80/100\n",
      "23/23 [==============================] - 0s 12ms/step - loss: 0.6348 - accuracy: 0.6798 - val_loss: 0.6309 - val_accuracy: 0.6927\n",
      "Epoch 81/100\n",
      "23/23 [==============================] - 0s 13ms/step - loss: 0.6422 - accuracy: 0.6798 - val_loss: 0.6386 - val_accuracy: 0.6927\n",
      "Epoch 82/100\n",
      "23/23 [==============================] - 0s 12ms/step - loss: 0.6460 - accuracy: 0.6798 - val_loss: 0.6347 - val_accuracy: 0.6927\n",
      "Epoch 83/100\n",
      "23/23 [==============================] - 0s 11ms/step - loss: 0.6477 - accuracy: 0.6798 - val_loss: 0.6163 - val_accuracy: 0.6927\n",
      "Epoch 84/100\n",
      "23/23 [==============================] - 0s 10ms/step - loss: 0.6303 - accuracy: 0.6798 - val_loss: 0.6173 - val_accuracy: 0.6927\n",
      "Epoch 85/100\n",
      "23/23 [==============================] - 0s 9ms/step - loss: 0.6385 - accuracy: 0.6798 - val_loss: 0.6164 - val_accuracy: 0.6927\n",
      "Epoch 86/100\n",
      "23/23 [==============================] - 0s 10ms/step - loss: 0.6354 - accuracy: 0.6798 - val_loss: 0.6188 - val_accuracy: 0.6927\n",
      "Epoch 87/100\n",
      "23/23 [==============================] - 0s 9ms/step - loss: 0.6365 - accuracy: 0.6587 - val_loss: 0.6243 - val_accuracy: 0.6927\n",
      "Epoch 88/100\n",
      "23/23 [==============================] - 0s 9ms/step - loss: 0.6307 - accuracy: 0.6798 - val_loss: 0.6163 - val_accuracy: 0.6927\n",
      "Epoch 89/100\n",
      "23/23 [==============================] - 0s 9ms/step - loss: 0.6344 - accuracy: 0.6798 - val_loss: 0.6155 - val_accuracy: 0.6927\n",
      "Epoch 90/100\n",
      "23/23 [==============================] - 0s 10ms/step - loss: 0.6344 - accuracy: 0.6798 - val_loss: 0.6196 - val_accuracy: 0.6927\n",
      "Epoch 91/100\n",
      "23/23 [==============================] - 0s 9ms/step - loss: 0.6312 - accuracy: 0.6798 - val_loss: 0.6160 - val_accuracy: 0.6927\n",
      "Epoch 92/100\n",
      "23/23 [==============================] - 0s 10ms/step - loss: 0.6332 - accuracy: 0.6798 - val_loss: 0.6439 - val_accuracy: 0.6927\n",
      "Epoch 93/100\n",
      "23/23 [==============================] - 0s 10ms/step - loss: 0.6391 - accuracy: 0.6798 - val_loss: 0.6581 - val_accuracy: 0.6927\n",
      "Epoch 94/100\n",
      "23/23 [==============================] - 0s 11ms/step - loss: 0.6334 - accuracy: 0.6798 - val_loss: 0.6170 - val_accuracy: 0.6927\n",
      "Epoch 95/100\n",
      "23/23 [==============================] - 0s 10ms/step - loss: 0.6309 - accuracy: 0.6798 - val_loss: 0.6289 - val_accuracy: 0.6927\n",
      "Epoch 96/100\n",
      "23/23 [==============================] - 0s 10ms/step - loss: 0.6360 - accuracy: 0.6798 - val_loss: 0.6274 - val_accuracy: 0.6927\n",
      "Epoch 97/100\n",
      "23/23 [==============================] - 0s 9ms/step - loss: 0.6362 - accuracy: 0.6798 - val_loss: 0.6156 - val_accuracy: 0.6927\n",
      "Epoch 98/100\n",
      "23/23 [==============================] - 0s 10ms/step - loss: 0.6367 - accuracy: 0.6798 - val_loss: 0.6208 - val_accuracy: 0.6927\n",
      "Epoch 99/100\n",
      "23/23 [==============================] - 0s 10ms/step - loss: 0.6343 - accuracy: 0.6798 - val_loss: 0.6386 - val_accuracy: 0.6927\n",
      "Epoch 100/100\n",
      "23/23 [==============================] - 0s 11ms/step - loss: 0.6384 - accuracy: 0.6798 - val_loss: 0.6209 - val_accuracy: 0.6927\n",
      "6/6 [==============================] - 0s 4ms/step\n"
     ]
    }
   ],
   "source": [
    "#fitting the model and predicting \n",
    "\n",
    "# fit network\n",
    "model_history=model.fit(x=X_train, y=y_train, epochs=100, batch_size=32,validation_data= (X_test,y_test))\n",
    "y_pred = model.predict(X_test)\n",
    "\n",
    "y_test_class = np.argmax(y_test,axis=1)\n",
    "y_pred_class = np.argmax(y_pred,axis=1)"
   ]
  },
  {
   "cell_type": "code",
   "execution_count": 67,
   "id": "52f39933",
   "metadata": {},
   "outputs": [
    {
     "name": "stdout",
     "output_type": "stream",
     "text": [
      "              precision    recall  f1-score   support\n",
      "\n",
      "           0       0.69      0.92      0.79       110\n",
      "           1       0.72      0.33      0.46        69\n",
      "\n",
      "    accuracy                           0.69       179\n",
      "   macro avg       0.70      0.63      0.62       179\n",
      "weighted avg       0.70      0.69      0.66       179\n",
      "\n",
      "[[101   9]\n",
      " [ 46  23]]\n"
     ]
    }
   ],
   "source": [
    "#Accuracy of the predicted values\n",
    "from sklearn.metrics import classification_report,confusion_matrix\n",
    "print(classification_report(y_test_class,y_pred_class))\n",
    "print(confusion_matrix(y_test_class,y_pred_class))"
   ]
  },
  {
   "cell_type": "code",
   "execution_count": null,
   "id": "90d44c15",
   "metadata": {},
   "outputs": [],
   "source": []
  }
 ],
 "metadata": {
  "kernelspec": {
   "display_name": "Python 3 (ipykernel)",
   "language": "python",
   "name": "python3"
  },
  "language_info": {
   "codemirror_mode": {
    "name": "ipython",
    "version": 3
   },
   "file_extension": ".py",
   "mimetype": "text/x-python",
   "name": "python",
   "nbconvert_exporter": "python",
   "pygments_lexer": "ipython3",
   "version": "3.9.13"
  }
 },
 "nbformat": 4,
 "nbformat_minor": 5
}
